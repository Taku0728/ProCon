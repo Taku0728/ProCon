{
 "cells": [
  {
   "cell_type": "code",
   "execution_count": 2,
   "metadata": {},
   "outputs": [
    {
     "name": "stdout",
     "output_type": "stream",
     "text": [
      "4 5\n",
      "s####\n",
      "....#\n",
      "#####\n",
      "#...g\n"
     ]
    }
   ],
   "source": [
    "from collections import deque\n",
    "H, W = [int(x) for x in input().split()]\n",
    "c = [input() for _ in range(H)]"
   ]
  },
  {
   "cell_type": "code",
   "execution_count": 4,
   "metadata": {
    "scrolled": true
   },
   "outputs": [
    {
     "name": "stdout",
     "output_type": "stream",
     "text": [
      "YES\n"
     ]
    }
   ],
   "source": [
    "for i, x in enumerate(c):\n",
    "    for j, y in enumerate(x):\n",
    "        if y == 's':\n",
    "            s = [i, j, 0]\n",
    "tab = [[3 for _ in range(W)] for _ in range(H)]\n",
    "dir = [[0, 1], [0, -1], [1, 0], [-1, 0]]\n",
    "dq = deque()\n",
    "dq.append(s)\n",
    "while len(dq):\n",
    "    i, j, k = dq.pop()\n",
    "    if tab[i][j] <= k:\n",
    "        continue\n",
    "    a = 1 if c[i][j] is '#' else 0\n",
    "    if k + a > 2:\n",
    "        break\n",
    "    if c[i][j] is 'g':\n",
    "        print('YES')\n",
    "        break\n",
    "    tab[i][j] = k + a\n",
    "    for d in dir:\n",
    "        nl = [i + d[0], j + d[1], k + a]\n",
    "        if 0 <= nl[0] < H and 0 <= nl[1] < W:\n",
    "            if a: dq.appendleft(nl)\n",
    "            else: dq.append(nl)\n",
    "if not len(dq):\n",
    "    print('NO')"
   ]
  },
  {
   "cell_type": "code",
   "execution_count": null,
   "metadata": {},
   "outputs": [],
   "source": []
  }
 ],
 "metadata": {
  "kernelspec": {
   "display_name": "Python 3",
   "language": "python",
   "name": "python3"
  },
  "language_info": {
   "codemirror_mode": {
    "name": "ipython",
    "version": 3
   },
   "file_extension": ".py",
   "mimetype": "text/x-python",
   "name": "python",
   "nbconvert_exporter": "python",
   "pygments_lexer": "ipython3",
   "version": "3.6.4"
  }
 },
 "nbformat": 4,
 "nbformat_minor": 2
}

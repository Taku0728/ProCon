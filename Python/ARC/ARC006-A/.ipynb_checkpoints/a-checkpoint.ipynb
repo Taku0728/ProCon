{
 "cells": [
  {
   "cell_type": "code",
   "execution_count": 13,
   "metadata": {},
   "outputs": [
    {
     "name": "stdout",
     "output_type": "stream",
     "text": [
      "1 3 5 6 7 8\n",
      "9\n",
      "3 5 6 7 8 9\n",
      "3\n"
     ]
    }
   ],
   "source": [
    "E = [int(x) for x in input().split()]\n",
    "B = int(input())\n",
    "L = [int(x) for x in input().split()]\n",
    "count = 0\n",
    "for i in range(6):\n",
    "    if E[i] in L:\n",
    "        count += 1\n",
    "if count == 6:\n",
    "    print(1)\n",
    "elif count == 5:\n",
    "    if B in L:\n",
    "        print(2)\n",
    "    else:\n",
    "        print(3)\n",
    "elif count > 2:\n",
    "    print(8 - count)\n",
    "else:\n",
    "    print(0)\n",
    "    \n",
    "#14:08"
   ]
  },
  {
   "cell_type": "code",
   "execution_count": null,
   "metadata": {},
   "outputs": [],
   "source": []
  }
 ],
 "metadata": {
  "kernelspec": {
   "display_name": "Python 3",
   "language": "python",
   "name": "python3"
  }
 },
 "nbformat": 4,
 "nbformat_minor": 2
}

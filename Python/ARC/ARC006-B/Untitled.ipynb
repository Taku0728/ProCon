{
 "cells": [
  {
   "cell_type": "code",
   "execution_count": 7,
   "metadata": {},
   "outputs": [
    {
     "name": "stdout",
     "output_type": "stream",
     "text": [
      "9 8\n",
      "| | | | | | | | |\n",
      "|-| | |-| | |-| |\n",
      "| | |-| | |-| | |\n",
      "| |-| | | | | |-|\n",
      "| | | |-| | | |-|\n",
      "| | |-| |-| | | |\n",
      "|-| | |-| | |-| |\n",
      "| | | | | |-| | |\n",
      "            o    \n",
      "9\n"
     ]
    }
   ],
   "source": [
    "N, L = [int(x) for x in input().split()]\n",
    "c = [input() for _ in range(L)]\n",
    "y = input()\n",
    "\n",
    "sj = int(y.index('o') / 2)\n",
    "si = L - 1\n",
    "while si > -1:\n",
    "    if sj*2 > 0 and c[si][sj*2 - 1] == '-':\n",
    "        sj -= 1\n",
    "    if sj*2 < N*2 - 2 and c[si][sj*2 + 1] == '-':\n",
    "        sj += 1\n",
    "    si -= 1\n",
    "print(sj + 1)"
   ]
  },
  {
   "cell_type": "code",
   "execution_count": null,
   "metadata": {},
   "outputs": [],
   "source": []
  }
 ],
 "metadata": {
  "kernelspec": {
   "display_name": "Python 3",
   "language": "python",
   "name": "python3"
  }
 },
 "nbformat": 4,
 "nbformat_minor": 2
}
